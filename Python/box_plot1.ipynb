{
 "cells": [
  {
   "cell_type": "code",
   "execution_count": 1,
   "metadata": {},
   "outputs": [],
   "source": [
    "import numpy as np\n",
    "import pandas as pd"
   ]
  },
  {
   "cell_type": "code",
   "execution_count": 68,
   "metadata": {},
   "outputs": [
    {
     "data": {
      "image/png": "[encoded data removed]",
      "text/plain": [
       "<Figure size 432x288 with 1 Axes>"
      ]
     },
     "metadata": {
      "needs_background": "light"
     },
     "output_type": "display_data"
    },
    {
     "data": {
      "text/plain": [
       "<Figure size 432x288 with 0 Axes>"
      ]
     },
     "metadata": {},
     "output_type": "display_data"
    }
   ],
   "source": [
    "import matplotlib.pyplot as plt\n",
    "import PIL as Image\n",
    "amit = [12,24,35,16,40,75]\n",
    "box_plot_data = [amit]\n",
    "plt.boxplot(box_plot_data)\n",
    "tapas = [12,24,45,11,40,75]\n",
    "box_plot_data = [tapas]\n",
    "plt.boxplot(box_plot_data)\n",
    "plt.show()\n",
    "plt.savefig(\"box_plot_data.png\")\n",
    "\n"
   ]
  },
  {
   "cell_type": "code",
   "execution_count": 11,
   "metadata": {},
   "outputs": [
    {
     "data": {
      "image/png": "[encoded data removed]",
      "text/plain": [
       "<Figure size 432x288 with 1 Axes>"
      ]
     },
     "metadata": {
      "needs_background": "light"
     },
     "output_type": "display_data"
    },
    {
     "data": {
      "text/plain": [
       "'tapas = [12,24,45,11,40,75]\\nbox_plot_data = [tapas]\\nplt.boxplot(box_plot_data)\\nplt.show()'"
      ]
     },
     "execution_count": 11,
     "metadata": {},
     "output_type": "execute_result"
    }
   ],
   "source": [
    "import matplotlib.pyplot as plt\n",
    "amit = [12,24,35,16,40,75]\n",
    "b = [amit]\n",
    "plt.boxplot(b)\n",
    "plt.show()\n",
    "\"\"\"tapas = [12,24,45,11,40,75]\n",
    "box_plot_data = [tapas]\n",
    "plt.boxplot(box_plot_data)\n",
    "plt.show()\"\"\"\n",
    "\n"
   ]
  },
  {
   "cell_type": "code",
   "execution_count": 14,
   "metadata": {},
   "outputs": [
    {
     "data": {
      "text/plain": [
       "{'whiskers': [<matplotlib.lines.Line2D at 0x11decd36f60>,\n",
       "  <matplotlib.lines.Line2D at 0x11decd36fd0>],\n",
       " 'caps': [<matplotlib.lines.Line2D at 0x11decd446a0>,\n",
       "  <matplotlib.lines.Line2D at 0x11decd449e8>],\n",
       " 'boxes': [<matplotlib.lines.Line2D at 0x11decd36b38>],\n",
       " 'medians': [<matplotlib.lines.Line2D at 0x11decd44d30>],\n",
       " 'fliers': [<matplotlib.lines.Line2D at 0x11decd44e10>],\n",
       " 'means': []}"
      ]
     },
     "execution_count": 14,
     "metadata": {},
     "output_type": "execute_result"
    },
    {
     "data": {
      "image/png": "[encoded data removed]",
      "text/plain": [
       "<Figure size 432x288 with 1 Axes>"
      ]
     },
     "metadata": {
      "needs_background": "light"
     },
     "output_type": "display_data"
    }
   ],
   "source": [
    "import matplotlib.pyplot as plt\n",
    "amit = [12,24,35,16,40,75]\n",
    "#box_plot_data = [amit]\n",
    "plt.boxplot([amit])"
   ]
  },
  {
   "cell_type": "code",
   "execution_count": 58,
   "metadata": {},
   "outputs": [
    {
     "data": {
      "image/png": "[encoded data removed]",
      "text/plain": [
       "<Figure size 432x288 with 1 Axes>"
      ]
     },
     "metadata": {
      "needs_background": "light"
     },
     "output_type": "display_data"
    }
   ],
   "source": [
    "import matplotlib.pyplot as plt\n",
    "amit = [12,24,35,16,40,75,400,300,900]\n",
    "tapas = [12,24,45,11,40,75,90,79,43,1000]\n",
    "sunil = [12,24,35,16,40,75,500,400,300,900]\n",
    "box_plot_data = [amit,tapas,sunil]\n",
    "plt.boxplot(box_plot_data)\n",
    "plt.xlabel('temp')\n",
    "plt.ylabel('strength')\n",
    "plt.title('work')\n",
    "plt.show()"
   ]
  },
  {
   "cell_type": "code",
   "execution_count": 28,
   "metadata": {},
   "outputs": [
    {
     "data": {
      "image/png": "[encoded data removed]",
      "text/plain": [
       "<Figure size 432x288 with 1 Axes>"
      ]
     },
     "metadata": {
      "needs_background": "light"
     },
     "output_type": "display_data"
    }
   ],
   "source": [
    "import matplotlib.pyplot as plt\n",
    "amit = [100,200,400,300,900]\n",
    "tapas = [150,250,350,370,450]\n",
    "sunil = [200,500,400,300,900]\n",
    "box_plot_data = [amit,tapas,sunil]\n",
    "plt.boxplot(box_plot_data)\n",
    "plt.show()"
   ]
  },
  {
   "cell_type": "code",
   "execution_count": 69,
   "metadata": {},
   "outputs": [
    {
     "name": "stdout",
     "output_type": "stream",
     "text": [
      "     0    1    2    3    4\n",
      "0  100  200  400  300  900\n",
      "1  150  250  350  370  450\n",
      "2  200  500  400  300  900\n",
      "AxesSubplot(0.125,0.125;0.775x0.755)\n"
     ]
    },
    {
     "data": {
      "image/png": "[encoded data removed]",
      "text/plain": [
       "<Figure size 432x288 with 1 Axes>"
      ]
     },
     "metadata": {
      "needs_background": "light"
     },
     "output_type": "display_data"
    }
   ],
   "source": [
    "import seaborn as sns\n",
    "amit = [100,200,400,300,900]\n",
    "tapas = [150,250,350,370,450]\n",
    "sunil = [200,500,400,300,900]\n",
    "b = [amit,tapas,sunil]\n",
    "#box_plot_data = [amit,tapas,sunil]\n",
    "box_plot_data = pd.DataFrame(b)\n",
    "print(box_plot_data)\n",
    "a =sns.boxplot(b)\n",
    "plt.xlabel('temp')\n",
    "print(a)\n",
    "plt.savefig(\"box_plot_data.png\")\n",
    "\n"
   ]
  },
  {
   "cell_type": "code",
   "execution_count": null,
   "metadata": {},
   "outputs": [],
   "source": []
  },
  {
   "cell_type": "code",
   "execution_count": null,
   "metadata": {},
   "outputs": [],
   "source": []
  },
  {
   "cell_type": "code",
   "execution_count": null,
   "metadata": {},
   "outputs": [],
   "source": []
  }
 ],
 "metadata": {
  "kernelspec": {
   "display_name": "Python 3",
   "language": "python",
   "name": "python3"
  },
  "language_info": {
   "codemirror_mode": {
    "name": "ipython",
    "version": 3
   },
   "file_extension": ".py",
   "mimetype": "text/x-python",
   "name": "python",
   "nbconvert_exporter": "python",
   "pygments_lexer": "ipython3",
   "version": "3.7.3"
  }
 },
 "nbformat": 4,
 "nbformat_minor": 2
}
