{
 "cells": [
  {
   "cell_type": "markdown",
   "metadata": {},
   "source": [
    "<h1 style=\"color:green\" align='center'>Numpy tutorial: iterate numpy array using nditer</h1>"
   ]
  },
  {
   "cell_type": "code",
   "execution_count": 1,
   "metadata": {},
   "outputs": [],
   "source": [
    "# less memory,fast,convinient\n",
    "# # Numpy is a general-purpose array-processing package"
   ]
  },
  {
   "cell_type": "code",
   "execution_count": 2,
   "metadata": {},
   "outputs": [],
   "source": [
    "import numpy as np\n",
    "import time\n",
    "import sys"
   ]
  },
  {
   "cell_type": "code",
   "execution_count": 3,
   "metadata": {},
   "outputs": [
    {
     "name": "stdout",
     "output_type": "stream",
     "text": [
      "48\n",
      "10000000\n",
      "4\n",
      "480000000\n",
      "40000000\n",
      "time require for array in sec 0.02399444580078125\n",
      "time require for list in sec 1.9589667320251465\n"
     ]
    }
   ],
   "source": [
    "# numpy is faster and take less memory than list\n",
    "\n",
    "ran = 10000000\n",
    "lis1 = range(ran)\n",
    "lis2 = range(ran)\n",
    "a1 = np.arange(ran)\n",
    "a2 = np.arange(ran)\n",
    "\n",
    "print(sys.getsizeof(lis1))\n",
    "\n",
    "print(a1.size)\n",
    "\n",
    "print(a1.itemsize)\n",
    "\n",
    "print(sys.getsizeof(lis1)*len(lis1))\n",
    "\n",
    "print(a1.size*a1.itemsize)\n",
    "\n",
    "start = time.time()\n",
    "result = a1 + a2\n",
    "print(\"time require for array in sec\",(time.time()-start))\n",
    "\n",
    "start = time.time()\n",
    "result = [(x+y) for x,y in zip(lis1,lis2)]\n",
    "print(\"time require for list in sec\",(time.time()-start))"
   ]
  },
  {
   "cell_type": "markdown",
   "metadata": {},
   "source": [
    "<h2 style = \"color:green\">Another method to find run time</h2>"
   ]
  },
  {
   "cell_type": "code",
   "execution_count": 4,
   "metadata": {},
   "outputs": [
    {
     "name": "stdout",
     "output_type": "stream",
     "text": [
      "Wall time: 2.64 s\n"
     ]
    }
   ],
   "source": [
    "%%time\n",
    "result = [(x+y) for x,y in zip(lis1,lis2)]"
   ]
  },
  {
   "cell_type": "code",
   "execution_count": 5,
   "metadata": {},
   "outputs": [
    {
     "name": "stdout",
     "output_type": "stream",
     "text": [
      "Wall time: 254 ms\n"
     ]
    }
   ],
   "source": [
    "%%time\n",
    "result = a1 + a2"
   ]
  },
  {
   "cell_type": "code",
   "execution_count": 6,
   "metadata": {},
   "outputs": [
    {
     "name": "stdout",
     "output_type": "stream",
     "text": [
      "[10 20 30 40 50] <class 'numpy.ndarray'>\n",
      "int32\n",
      "5\n",
      "4\n",
      "(5,)\n"
     ]
    }
   ],
   "source": [
    "# 1D Array \n",
    "a = np.array([10,20,30,40, 50])\n",
    "print(a, type(a))\n",
    "print(a.dtype)\n",
    "print(a.size)\n",
    "print(a.itemsize)\n",
    "print(a.shape)\n",
    "#print(dir(a))"
   ]
  },
  {
   "cell_type": "code",
   "execution_count": 7,
   "metadata": {},
   "outputs": [
    {
     "name": "stdout",
     "output_type": "stream",
     "text": [
      "[[ 1  2  3  4  5  6]\n",
      " [ 5  7  6  4 55  6]]\n",
      "(2, 6)\n",
      "int32\n",
      "12\n",
      "4\n",
      "3\n"
     ]
    }
   ],
   "source": [
    "# 2D Array\n",
    "mat = np.array( [[1,2,3,4,5,6], [5,7,6,4,55,6]] )\n",
    "print(mat)\n",
    "print(mat.shape)\n",
    "print(mat.dtype)\n",
    "print(mat.size)\n",
    "print(mat.itemsize)\n",
    "mat[0:2]\n",
    "print(mat[0,2])"
   ]
  },
  {
   "cell_type": "code",
   "execution_count": 8,
   "metadata": {},
   "outputs": [
    {
     "name": "stdout",
     "output_type": "stream",
     "text": [
      "[10. 20. 30. 40. 50.] <class 'numpy.ndarray'>\n",
      "float64\n",
      "8\n"
     ]
    }
   ],
   "source": [
    "a = np.array([10.0,20,30,40, 50])\n",
    "print(a, type(a))\n",
    "print(a.dtype)\n",
    "print(a.itemsize)"
   ]
  },
  {
   "cell_type": "code",
   "execution_count": 9,
   "metadata": {},
   "outputs": [
    {
     "name": "stdout",
     "output_type": "stream",
     "text": [
      "(3, 4)\n",
      "[[1 2 3 4]\n",
      " [3 4 5 6]\n",
      " [1 2 3 4]]\n"
     ]
    }
   ],
   "source": [
    "mat = np.array([ [1,2,3,4], [3,4,5,6], [1,2,3,4]])\n",
    "print(mat.shape)\n",
    "print(mat)"
   ]
  },
  {
   "cell_type": "code",
   "execution_count": 10,
   "metadata": {},
   "outputs": [
    {
     "name": "stdout",
     "output_type": "stream",
     "text": [
      "[10. 20. 30. 40. 50.] <class 'numpy.ndarray'>\n",
      "float32\n",
      "4\n"
     ]
    }
   ],
   "source": [
    "a = np.array([10.0,20,30,40, 50], dtype = 'float32')\n",
    "print(a, type(a))\n",
    "print(a.dtype)\n",
    "print(a.itemsize)"
   ]
  },
  {
   "cell_type": "code",
   "execution_count": 11,
   "metadata": {},
   "outputs": [
    {
     "name": "stdout",
     "output_type": "stream",
     "text": [
      "[100000000000           20           30           40           50] <class 'numpy.ndarray'>\n",
      "int64\n",
      "8\n"
     ]
    }
   ],
   "source": [
    "a = np.array([100000000000,20,30,40, 50], )\n",
    "print(a, type(a))\n",
    "print(a.dtype)\n",
    "print(a.itemsize)"
   ]
  },
  {
   "cell_type": "code",
   "execution_count": 12,
   "metadata": {},
   "outputs": [
    {
     "name": "stdout",
     "output_type": "stream",
     "text": [
      "[  10   20   30 -128   50] <class 'numpy.ndarray'>\n",
      "int8\n",
      "1\n",
      "[  10   20   30 -128   50]\n"
     ]
    }
   ],
   "source": [
    "a = np.array([10,20,30,128, 50], dtype = 'int8') # -128 - +127\n",
    "print(a, type(a))\n",
    "print(a.dtype)\n",
    "print(a.itemsize)\n",
    "print(a)"
   ]
  },
  {
   "cell_type": "code",
   "execution_count": 13,
   "metadata": {},
   "outputs": [
    {
     "name": "stdout",
     "output_type": "stream",
     "text": [
      "[10 20 30  0 50] <class 'numpy.ndarray'>\n",
      "uint8\n",
      "1\n",
      "[10 20 30  0 50]\n"
     ]
    }
   ],
   "source": [
    "a = np.array([10,20,30,256, 50], dtype = 'uint8')\n",
    "print(a, type(a))\n",
    "print(a.dtype)\n",
    "print(a.itemsize)\n",
    "print(a)"
   ]
  },
  {
   "cell_type": "code",
   "execution_count": 14,
   "metadata": {},
   "outputs": [
    {
     "name": "stdout",
     "output_type": "stream",
     "text": [
      "[10 29] int16\n",
      "['10' '29']\n",
      "24\n"
     ]
    }
   ],
   "source": [
    "a = np.array([10,29], dtype = np.int16)\n",
    "print(a, a.dtype)\n",
    "s = a.astype(dtype = 'str')\n",
    "print(s)\n",
    "print(s.itemsize)"
   ]
  },
  {
   "cell_type": "code",
   "execution_count": 15,
   "metadata": {},
   "outputs": [
    {
     "name": "stdout",
     "output_type": "stream",
     "text": [
      "[10 29] int64\n",
      "['10' '29']\n",
      "84\n",
      "<U21\n"
     ]
    }
   ],
   "source": [
    "a = np.array([10,29], dtype = 'i8')\n",
    "print(a, a.dtype)\n",
    "s = a.astype(dtype = 'str')\n",
    "print(s)\n",
    "print(s.itemsize)\n",
    "print(s.dtype)"
   ]
  },
  {
   "cell_type": "code",
   "execution_count": 16,
   "metadata": {},
   "outputs": [
    {
     "name": "stdout",
     "output_type": "stream",
     "text": [
      "[1 2 3 'a' list([1, 2])]\n",
      "object\n"
     ]
    }
   ],
   "source": [
    "a = np.array( [ 1,2,3, 'a', [1,2]] )\n",
    "print(a)\n",
    "print(a.dtype)"
   ]
  },
  {
   "cell_type": "code",
   "execution_count": 17,
   "metadata": {},
   "outputs": [
    {
     "name": "stdout",
     "output_type": "stream",
     "text": [
      "[1 2 3 4 5 6 7 8 9]\n",
      "int32\n",
      "<class 'numpy.ndarray'>\n",
      "[0 1 2 3 4 5 6 7 8 9]\n",
      "[10 12 14 16 18]\n",
      "[10. 12. 14. 16. 18.]\n"
     ]
    }
   ],
   "source": [
    "a = np.arange(1,10)\n",
    "print(a)\n",
    "print(a.dtype)\n",
    "print(type(a))\n",
    "print(np.arange(10))\n",
    "print(np.arange(10,20,2))\n",
    "print(np.arange(10,20,2, dtype = 'f4'))"
   ]
  },
  {
   "cell_type": "code",
   "execution_count": 18,
   "metadata": {},
   "outputs": [
    {
     "name": "stdout",
     "output_type": "stream",
     "text": [
      "[1 1 1 1 1]\n",
      "[[0 0]\n",
      " [0 0]\n",
      " [0 0]\n",
      " [0 0]\n",
      " [0 0]]\n"
     ]
    }
   ],
   "source": [
    "z = np.ones(5, dtype = np.int8)\n",
    "print(z)\n",
    "z = np.zeros((5,2), dtype = np.int8)\n",
    "print(z)"
   ]
  },
  {
   "cell_type": "code",
   "execution_count": 19,
   "metadata": {},
   "outputs": [
    {
     "name": "stdout",
     "output_type": "stream",
     "text": [
      "[ 1 21 41 61 81]\n",
      "[ 1.          3.02564103  5.05128205  7.07692308  9.1025641  11.12820513\n",
      " 13.15384615 15.17948718 17.20512821 19.23076923 21.25641026 23.28205128\n",
      " 25.30769231 27.33333333 29.35897436 31.38461538 33.41025641 35.43589744\n",
      " 37.46153846 39.48717949 41.51282051 43.53846154 45.56410256 47.58974359\n",
      " 49.61538462 51.64102564 53.66666667 55.69230769 57.71794872 59.74358974\n",
      " 61.76923077 63.79487179 65.82051282 67.84615385 69.87179487 71.8974359\n",
      " 73.92307692 75.94871795 77.97435897 80.        ]\n",
      "[ 1.  2.  3.  4.  5.  6.  7.  8.  9. 10.]\n",
      "[ 1  3  5  7  9 11 13 15 17 19 21 23 25 27 29 31 33 35 37 39 41 43 45 47\n",
      " 49 51 53 55 57 59 61 63 65 67 69 71 73 75 77 80]\n",
      "[10.         11.11111111 12.22222222 13.33333333 14.44444444 15.55555556\n",
      " 16.66666667 17.77777778 18.88888889 20.        ]\n"
     ]
    }
   ],
   "source": [
    "l = np.arange(1,90,20)\n",
    "print(l)\n",
    "l = np.linspace(1,80,40)\n",
    "print(l)\n",
    "l = np.linspace(1,10,10)\n",
    "print(l)\n",
    "l = np.linspace(1,80,40, dtype = 'int8')\n",
    "print(l)\n",
    "\n",
    "l = np.linspace(10,20,10)\n",
    "print(l)\n",
    "#(20-10)/(10-1) # AP"
   ]
  },
  {
   "cell_type": "code",
   "execution_count": 20,
   "metadata": {},
   "outputs": [
    {
     "name": "stdout",
     "output_type": "stream",
     "text": [
      "True\n",
      "3.3333333333333335\n"
     ]
    }
   ],
   "source": [
    "print((2.0 - 1.0) == (3.0 - 2.0))\n",
    "\n",
    "f = np.int64(10)/ np.int64(3)\n",
    "print(f)"
   ]
  },
  {
   "cell_type": "code",
   "execution_count": 51,
   "metadata": {},
   "outputs": [
    {
     "name": "stdout",
     "output_type": "stream",
     "text": [
      "6\n",
      "16\n",
      "[14 12 13 17 12 15 14 10 16 10 18 14 12 17 18 14 12 14 10 15 16 14 19 17\n",
      " 14 12 16 11 15 12 13 14 15 14 18 19 17 16 16 12]\n",
      "[-1.14155743  1.63458279 -0.52879464 -0.17926062 -0.62376709 -0.06972553\n",
      "  1.33041037 -0.53631349 -0.82488893 -0.66887449 -0.76802942  0.53967701\n",
      " -0.62917144 -0.01751139 -0.97846058  0.29544246  1.72695969 -1.56127144\n",
      " -0.33932463  0.7658582  -0.47372061  0.44670368 -0.01146946 -1.50312093\n",
      "  0.38891496 -0.5506709   1.31564921  0.79123047 -0.60564484  0.59735232\n",
      " -1.46652859 -0.22636231  0.74211834 -0.74356371  0.13597042  0.64453576\n",
      " -0.13515141 -0.9196012   0.04634427  1.52885759]\n"
     ]
    }
   ],
   "source": [
    "# print(dir(np.random))\n",
    "n = np.random.randint(10)\n",
    "print(n)\n",
    "n = np.random.randint(10,20)\n",
    "print(n)\n",
    "n = np.random.randint(10,20,40)\n",
    "print(n)\n",
    "n = np.random.randn(40)\n",
    "print(n)"
   ]
  },
  {
   "cell_type": "code",
   "execution_count": 22,
   "metadata": {},
   "outputs": [
    {
     "name": "stdout",
     "output_type": "stream",
     "text": [
      "[[ 1  2  3  4]\n",
      " [ 5  6  7  8]\n",
      " [ 9 10 11 12]\n",
      " [13 14 15 16]]\n",
      "[[ 1  2  3  4  5  6  7  8]\n",
      " [ 9 10 11 12 13 14 15 16]]\n",
      "[[ 1  2  3  4]\n",
      " [ 5  6  7  8]\n",
      " [ 9 10 11 12]\n",
      " [13 14 15 16]]\n"
     ]
    }
   ],
   "source": [
    "mat1 = np.arange(1,17).reshape(4,4)\n",
    "print(mat1)\n",
    "mat2 = np.arange(1,17).reshape(2,8)\n",
    "print(mat2)\n",
    "print(mat1)"
   ]
  },
  {
   "cell_type": "code",
   "execution_count": 23,
   "metadata": {},
   "outputs": [
    {
     "name": "stdout",
     "output_type": "stream",
     "text": [
      "[[[ 1  2  3  4]\n",
      "  [ 5  6  7  8]]\n",
      "\n",
      " [[ 9 10 11 12]\n",
      "  [13 14 15 16]]\n",
      "\n",
      " [[17 18 19 20]\n",
      "  [21 22 23 24]]]\n"
     ]
    }
   ],
   "source": [
    "mat1 = np.arange(1,25).reshape(3,2,4)\n",
    "print(mat1)"
   ]
  },
  {
   "cell_type": "code",
   "execution_count": 24,
   "metadata": {},
   "outputs": [
    {
     "name": "stdout",
     "output_type": "stream",
     "text": [
      "[[ 1  2  3  4  5  6  7  8  9 10 11 12 13 14 15 16  0  0  0  0]\n",
      " [ 0  0  0  0  0  0  0  0  0  0  0  0  0  0  0  0  0  0  0  0]]\n",
      "[[ 1  2  3  4  5]\n",
      " [ 6  7  8  9 10]]\n"
     ]
    }
   ],
   "source": [
    "mat = np.arange(1,17)\n",
    "mat.resize(2,20)\n",
    "print(mat)\n",
    "\n",
    "mat = np.arange(1,17)\n",
    "mat.resize(2,5)\n",
    "print(mat)"
   ]
  },
  {
   "cell_type": "code",
   "execution_count": 25,
   "metadata": {},
   "outputs": [
    {
     "name": "stdout",
     "output_type": "stream",
     "text": [
      "[[ 1  2  3  4  5]\n",
      " [ 6  7  8  9 10]\n",
      " [11 12 13 14 15]\n",
      " [16 17 18 19 20]]\n",
      "\n",
      "[ 6  7  8  9 10]\n",
      "\n",
      "7\n",
      "\n",
      "8\n",
      "\n",
      "[[ 6  7  8  9 10]\n",
      " [11 12 13 14 15]\n",
      " [16 17 18 19 20]]\n",
      "\n",
      "[ 9 14]\n",
      "\n",
      "[[ 6  7]\n",
      " [11 12]]\n",
      "[[ 7  9]\n",
      " [12 14]]\n"
     ]
    }
   ],
   "source": [
    "mat1 = np.arange(1,21).reshape(4,5)\n",
    "print(mat1)\n",
    "\n",
    "print()\n",
    "print(mat1[1])\n",
    "print()\n",
    "print(mat1[1,1])\n",
    "print()\n",
    "print(mat1[1,2])\n",
    "\n",
    "print()\n",
    "print(mat1[1:])\n",
    "print()\n",
    "print(mat1[1:3, 3])\n",
    "print()\n",
    "print(mat1[1:3, :2])\n",
    "print(mat1[1:3, [1,3]])"
   ]
  },
  {
   "cell_type": "code",
   "execution_count": 26,
   "metadata": {},
   "outputs": [
    {
     "name": "stdout",
     "output_type": "stream",
     "text": [
      "[[ 1  2  3  4  5]\n",
      " [ 6  7  8  9 10]\n",
      " [11 12 13 14 15]\n",
      " [16 17 18 19 20]]\n",
      "[[17 19]\n",
      " [12 14]]\n",
      "[ 5 10 15 20]\n"
     ]
    }
   ],
   "source": [
    "mat1 = np.arange(1,21).reshape(4,5)\n",
    "print(mat1)\n",
    "\n",
    "print(mat1[3:1:-1, [1,3]]) # [d0, d1,...]\n",
    "print(mat1[:,4])           #[s0:e0:step0   ,s1:e1:step1....    ]"
   ]
  },
  {
   "cell_type": "code",
   "execution_count": 27,
   "metadata": {},
   "outputs": [
    {
     "name": "stdout",
     "output_type": "stream",
     "text": [
      "[[ 1  2  3  4  5]\n",
      " [ 6  7  8  9 10]\n",
      " [11 12 13 14 15]\n",
      " [16 17 18 19 20]]\n",
      "[[21 22 23 24 25]\n",
      " [26 27 28 29 30]\n",
      " [31 32 33 34 35]\n",
      " [36 37 38 39 40]]\n"
     ]
    }
   ],
   "source": [
    "mat1 = np.arange(1,21).reshape(4,5)\n",
    "print(mat1)\n",
    "print( mat1 + 20 )"
   ]
  },
  {
   "cell_type": "code",
   "execution_count": 28,
   "metadata": {},
   "outputs": [
    {
     "name": "stdout",
     "output_type": "stream",
     "text": [
      "[[ 1  2  3  4  5]\n",
      " [ 6  7  8  9 10]\n",
      " [11 12 13 14 15]\n",
      " [16 17 18 19 20]]\n",
      "[[100 101 102 103 104]\n",
      " [105 106 107 108 109]\n",
      " [110 111 112 113 114]\n",
      " [115 116 117 118 119]]\n",
      "[[101 103 105 107 109]\n",
      " [111 113 115 117 119]\n",
      " [121 123 125 127 129]\n",
      " [131 133 135 137 139]]\n",
      "[[ 100  202  306  412  520]\n",
      " [ 630  742  856  972 1090]\n",
      " [1210 1332 1456 1582 1710]\n",
      " [1840 1972 2106 2242 2380]]\n"
     ]
    }
   ],
   "source": [
    "mat1 = np.arange(1,21).reshape(4,5)\n",
    "print(mat1)\n",
    "mat2 = np.arange(100,120).reshape(4,5)\n",
    "print(mat2)\n",
    "\n",
    "mat3 = mat1 + mat2\n",
    "print(mat3)\n",
    "mat3 = mat1 * mat2\n",
    "print(mat3)"
   ]
  },
  {
   "cell_type": "code",
   "execution_count": 29,
   "metadata": {},
   "outputs": [
    {
     "name": "stdout",
     "output_type": "stream",
     "text": [
      "[[ 1  2  3  4  5]\n",
      " [ 6  7  8  9 10]\n",
      " [11 12 13 14 15]\n",
      " [16 17 18 19 20]]\n",
      "1\n",
      "20\n",
      "[ 1  6 11 16]\n",
      "[ 5 10 15 20]\n",
      "[1 2 3 4 5]\n",
      "[16 17 18 19 20]\n",
      "\n",
      "[15 40 65 90]\n",
      "[15 40 65 90]\n"
     ]
    }
   ],
   "source": [
    "mat1 = np.arange(1,21).reshape(4,5)\n",
    "print(mat1)\n",
    "print(mat1.min())\n",
    "print(mat1.max())\n",
    "print(mat1.min(axis = 1))\n",
    "print(mat1.max(axis = 1))\n",
    "print(mat1.min(axis = 0))\n",
    "print(mat1.max(axis = 0))\n",
    "print()\n",
    "print(mat1.sum(axis = 1))\n",
    "print(mat1.sum(axis = 1))"
   ]
  },
  {
   "cell_type": "code",
   "execution_count": 30,
   "metadata": {},
   "outputs": [
    {
     "name": "stdout",
     "output_type": "stream",
     "text": [
      "[[5 6 2 1]\n",
      " [4 8 1 3]\n",
      " [1 8 2 9]]\n"
     ]
    }
   ],
   "source": [
    "mat = np.random.randint(1,10,12).reshape(3,4)\n",
    "print(mat)"
   ]
  },
  {
   "cell_type": "code",
   "execution_count": 31,
   "metadata": {},
   "outputs": [
    {
     "name": "stdout",
     "output_type": "stream",
     "text": [
      "[[False  True False False]\n",
      " [False  True False False]\n",
      " [False  True False  True]]\n",
      "[6 8 8 9]\n",
      "[[ True False  True  True]\n",
      " [ True False  True  True]\n",
      " [ True False  True False]]\n",
      "[5 2 1 4 1 3 1 2]\n",
      "[[False  True False False]\n",
      " [False False False False]\n",
      " [False False False False]]\n",
      "[6]\n"
     ]
    }
   ],
   "source": [
    "r = mat > 5\n",
    "print(r)\n",
    "print(mat[r])\n",
    "print(~r)\n",
    "print(mat[~r])\n",
    "\n",
    "r = (mat > 5) & (mat <=7) # & for and;  | for or\n",
    "print(r)\n",
    "print(mat[r])"
   ]
  },
  {
   "cell_type": "code",
   "execution_count": 50,
   "metadata": {},
   "outputs": [
    {
     "name": "stdout",
     "output_type": "stream",
     "text": [
      "[10. 20. 30. nan]\n",
      "False\n",
      "[False False False  True]\n",
      "True\n",
      "False\n",
      "[ True  True  True False]\n"
     ]
    },
    {
     "name": "stderr",
     "output_type": "stream",
     "text": [
      "C:\\Users\\admin\\Anaconda3\\lib\\site-packages\\ipykernel_launcher.py:8: RuntimeWarning: invalid value encountered in remainder\n",
      "  \n"
     ]
    }
   ],
   "source": [
    "a = np.array( [ 10,20,30, np.nan])\n",
    "print(a)\n",
    "print(np.nan == np.nan)\n",
    "print(np.isnan(a))\n",
    "print(np.isnan(a).any())\n",
    "print(np.isnan(a).all())\n",
    "\n",
    "print(a%2 == 0)"
   ]
  },
  {
   "cell_type": "code",
   "execution_count": 33,
   "metadata": {},
   "outputs": [
    {
     "name": "stdout",
     "output_type": "stream",
     "text": [
      "[[7 9 6 4]\n",
      " [4 9 2 1]\n",
      " [6 8 1 8]]\n"
     ]
    }
   ],
   "source": [
    "mat = np.random.randint(1,10,12).reshape(3,4)\n",
    "print(mat)"
   ]
  },
  {
   "cell_type": "code",
   "execution_count": 34,
   "metadata": {},
   "outputs": [
    {
     "name": "stdout",
     "output_type": "stream",
     "text": [
      "[[20 10 20 20]\n",
      " [20 10 20 20]\n",
      " [20 10 20 10]]\n",
      "[[7 9 6 4]\n",
      " [4 9 2 1]\n",
      " [6 8 1 8]]\n",
      "[[     7 100000      6      4]\n",
      " [     4 100000      2      1]\n",
      " [     6      8      1      8]]\n"
     ]
    }
   ],
   "source": [
    "r1 = np.where( (mat == 9) | (mat == 8),10,20 )\n",
    "print(r1)\n",
    "\n",
    "print(mat)\n",
    "mat[np.where(mat == 9)] = 100000\n",
    "print(mat)"
   ]
  },
  {
   "cell_type": "code",
   "execution_count": 35,
   "metadata": {},
   "outputs": [
    {
     "name": "stdout",
     "output_type": "stream",
     "text": [
      "[[9 9 4 9]\n",
      " [6 6 1 7]\n",
      " [6 7 8 7]]\n"
     ]
    }
   ],
   "source": [
    "mat = np.random.randint(1,10,12).reshape(3,4)\n",
    "print(mat)"
   ]
  },
  {
   "cell_type": "code",
   "execution_count": 36,
   "metadata": {},
   "outputs": [
    {
     "name": "stdout",
     "output_type": "stream",
     "text": [
      "[[ True  True False  True]\n",
      " [ True  True False  True]\n",
      " [ True  True  True  True]]\n",
      "[[False False  True False]\n",
      " [ True  True  True  True]\n",
      " [ True  True False  True]]\n",
      "[[False False False False]\n",
      " [ True  True False  True]\n",
      " [ True  True False  True]]\n"
     ]
    }
   ],
   "source": [
    "print(mat > 5)\n",
    "print(mat < 8)\n",
    "print((mat > 5) & (mat < 8))"
   ]
  },
  {
   "cell_type": "code",
   "execution_count": 37,
   "metadata": {},
   "outputs": [
    {
     "name": "stdout",
     "output_type": "stream",
     "text": [
      "[[9 9 4 9]\n",
      " [6 6 1 7]\n",
      " [6 7 8 7]]\n",
      "[[1. 1. 1. 1. 1.]\n",
      " [1. 1. 1. 1. 1.]\n",
      " [0. 0. 0. 0. 0.]\n",
      " [0. 0. 0. 0. 0.]]\n",
      "[[1. 1. 1. 1. 1. 0. 0. 0. 0. 0. 1. 1. 1. 1. 1.]\n",
      " [1. 1. 1. 1. 1. 0. 0. 0. 0. 0. 1. 1. 1. 1. 1.]]\n"
     ]
    }
   ],
   "source": [
    "mat0 = np.ones(10).reshape(2,5)\n",
    "print(mat)\n",
    "mat1 = np.zeros(10).reshape(2,5)\n",
    "\n",
    "mat2 = np.vstack([mat0 ,mat1])\n",
    "print(mat2)\n",
    "\n",
    "mat2 = np.hstack([mat0 ,mat1, mat0])\n",
    "print(mat2)"
   ]
  },
  {
   "cell_type": "markdown",
   "metadata": {},
   "source": [
    "<h2 style = color:blue>Slicing</h2>"
   ]
  },
  {
   "cell_type": "code",
   "execution_count": 38,
   "metadata": {},
   "outputs": [
    {
     "name": "stdout",
     "output_type": "stream",
     "text": [
      "[2 3 4 5 6 7 9]\n",
      "[6 7]\n",
      "[[1 2 3]\n",
      " [4 6 7]]\n"
     ]
    },
    {
     "data": {
      "text/plain": [
       "array([[-1,  2, -1],\n",
       "       [ 1, -3,  2]])"
      ]
     },
     "execution_count": 38,
     "metadata": {},
     "output_type": "execute_result"
    }
   ],
   "source": [
    "array2 = np.array([2,3,4,5,6,7,9])\n",
    "print(array2)\n",
    "arr = array2[4:6].copy()\n",
    "print(arr)\n",
    "arr[0]=11\n",
    "array2\n",
    "ar1 = np.array([[1,2,3],[4,6,7]])\n",
    "print(ar1)\n",
    "ar1.sum(axis = 1)\n",
    "b = np.array([[2,3,4],[3,5,6]])\n",
    "ar1.dot(b.transpose())\n",
    "np.cross(ar1,b)"
   ]
  },
  {
   "cell_type": "markdown",
   "metadata": {},
   "source": [
    "## Sorting"
   ]
  },
  {
   "cell_type": "code",
   "execution_count": 39,
   "metadata": {},
   "outputs": [
    {
     "data": {
      "text/plain": [
       "0"
      ]
     },
     "execution_count": 39,
     "metadata": {},
     "output_type": "execute_result"
    }
   ],
   "source": [
    "np.sort(ar1,axis = 0,kind = \"quicksort\")\n",
    "a = np.arange(2,20)\n",
    "a.shape\n",
    "a.reshape(6,3)\n",
    "np.argsort(a)\n",
    "np.argmax(a)\n",
    "np.argmin(a)"
   ]
  },
  {
   "cell_type": "code",
   "execution_count": 40,
   "metadata": {
    "scrolled": true
   },
   "outputs": [
    {
     "data": {
      "text/plain": [
       "array([[ 0,  1,  2,  3],\n",
       "       [ 4,  5,  6,  7],\n",
       "       [ 8,  9, 10, 11]])"
      ]
     },
     "execution_count": 40,
     "metadata": {},
     "output_type": "execute_result"
    }
   ],
   "source": [
    "a = np.arange(12).reshape(3,4)\n",
    "a"
   ]
  },
  {
   "cell_type": "markdown",
   "metadata": {},
   "source": [
    "<h3 style=\"color:purple\">Using normal for loop iteration</h3>"
   ]
  },
  {
   "cell_type": "code",
   "execution_count": 41,
   "metadata": {
    "scrolled": false
   },
   "outputs": [
    {
     "name": "stdout",
     "output_type": "stream",
     "text": [
      "0\n",
      "1\n",
      "2\n",
      "3\n",
      "4\n",
      "5\n",
      "6\n",
      "7\n",
      "8\n",
      "9\n",
      "10\n",
      "11\n"
     ]
    }
   ],
   "source": [
    "for row in a:\n",
    "    for cell in row:\n",
    "        print(cell)"
   ]
  },
  {
   "cell_type": "markdown",
   "metadata": {},
   "source": [
    "<h3 style=\"color:purple\">For loop with flatten</h3>"
   ]
  },
  {
   "cell_type": "code",
   "execution_count": 42,
   "metadata": {},
   "outputs": [
    {
     "name": "stdout",
     "output_type": "stream",
     "text": [
      "0\n",
      "1\n",
      "2\n",
      "3\n",
      "4\n",
      "5\n",
      "6\n",
      "7\n",
      "8\n",
      "9\n",
      "10\n",
      "11\n"
     ]
    }
   ],
   "source": [
    "for cell in a.flatten():\n",
    "    print(cell)"
   ]
  },
  {
   "cell_type": "markdown",
   "metadata": {},
   "source": [
    "<h1 style=\"color:blue\" align=\"center\">nditer</h1>"
   ]
  },
  {
   "cell_type": "markdown",
   "metadata": {},
   "source": [
    "<h3 style=\"color:purple\">C style ordering</h3>"
   ]
  },
  {
   "cell_type": "code",
   "execution_count": 43,
   "metadata": {
    "scrolled": true
   },
   "outputs": [
    {
     "name": "stdout",
     "output_type": "stream",
     "text": [
      "0\n",
      "1\n",
      "2\n",
      "3\n",
      "4\n",
      "5\n",
      "6\n",
      "7\n",
      "8\n",
      "9\n",
      "10\n",
      "11\n"
     ]
    }
   ],
   "source": [
    "for x in np.nditer(a, order='C'):\n",
    "    print(x)"
   ]
  },
  {
   "cell_type": "markdown",
   "metadata": {},
   "source": [
    "<h2 style=\"color:purple\">Fortan style ordering</h2>"
   ]
  },
  {
   "cell_type": "code",
   "execution_count": 44,
   "metadata": {
    "scrolled": false
   },
   "outputs": [
    {
     "name": "stdout",
     "output_type": "stream",
     "text": [
      "0\n",
      "4\n",
      "8\n",
      "1\n",
      "5\n",
      "9\n",
      "2\n",
      "6\n",
      "10\n",
      "3\n",
      "7\n",
      "11\n"
     ]
    }
   ],
   "source": [
    "for x in np.nditer(a, order='F'):\n",
    "    print(x)"
   ]
  },
  {
   "cell_type": "markdown",
   "metadata": {},
   "source": [
    "<h3 style=\"color:purple\">external_loop</h3>"
   ]
  },
  {
   "cell_type": "code",
   "execution_count": 45,
   "metadata": {
    "scrolled": false
   },
   "outputs": [
    {
     "name": "stdout",
     "output_type": "stream",
     "text": [
      "[0 4 8]\n",
      "[1 5 9]\n",
      "[ 2  6 10]\n",
      "[ 3  7 11]\n"
     ]
    }
   ],
   "source": [
    "for x in np.nditer(a, flags=['external_loop'],order='F'):\n",
    "    print(x)"
   ]
  },
  {
   "cell_type": "markdown",
   "metadata": {},
   "source": [
    "<h2 style=\"color:purple\">Modify array values while iterating</h2>"
   ]
  },
  {
   "cell_type": "code",
   "execution_count": 46,
   "metadata": {},
   "outputs": [],
   "source": [
    "for x in np.nditer(a, op_flags=['readwrite']):\n",
    "    x[...] = x * x"
   ]
  },
  {
   "cell_type": "code",
   "execution_count": 47,
   "metadata": {
    "scrolled": true
   },
   "outputs": [
    {
     "data": {
      "text/plain": [
       "array([[  0,   1,   4,   9],\n",
       "       [ 16,  25,  36,  49],\n",
       "       [ 64,  81, 100, 121]])"
      ]
     },
     "execution_count": 47,
     "metadata": {},
     "output_type": "execute_result"
    }
   ],
   "source": [
    "a"
   ]
  },
  {
   "cell_type": "markdown",
   "metadata": {},
   "source": [
    "<h2 style=\"color:purple\">Iterate two broadcastable arrays concurrently</h2>"
   ]
  },
  {
   "cell_type": "code",
   "execution_count": 48,
   "metadata": {},
   "outputs": [
    {
     "data": {
      "text/plain": [
       "array([[ 3],\n",
       "       [ 7],\n",
       "       [11]])"
      ]
     },
     "execution_count": 48,
     "metadata": {},
     "output_type": "execute_result"
    }
   ],
   "source": [
    "b = np.arange(3, 15, 4).reshape(3,1)\n",
    "b"
   ]
  },
  {
   "cell_type": "code",
   "execution_count": 49,
   "metadata": {},
   "outputs": [
    {
     "name": "stdout",
     "output_type": "stream",
     "text": [
      "0 3\n",
      "1 3\n",
      "4 3\n",
      "9 3\n",
      "16 7\n",
      "25 7\n",
      "36 7\n",
      "49 7\n",
      "64 11\n",
      "81 11\n",
      "100 11\n",
      "121 11\n"
     ]
    }
   ],
   "source": [
    "for x, y in np.nditer([a,b]):\n",
    "    print (x,y)"
   ]
  },
  {
   "cell_type": "code",
   "execution_count": null,
   "metadata": {},
   "outputs": [],
   "source": []
  }
 ],
 "metadata": {
  "kernelspec": {
   "display_name": "Python 3",
   "language": "python",
   "name": "python3"
  },
  "language_info": {
   "codemirror_mode": {
    "name": "ipython",
    "version": 3
   },
   "file_extension": ".py",
   "mimetype": "text/x-python",
   "name": "python",
   "nbconvert_exporter": "python",
   "pygments_lexer": "ipython3",
   "version": "3.7.4"
  }
 },
 "nbformat": 4,
 "nbformat_minor": 2
}
